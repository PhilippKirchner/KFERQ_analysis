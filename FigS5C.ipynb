{
 "cells": [
  {
   "cell_type": "markdown",
   "metadata": {},
   "source": [
    "## Kirchner et al. 2019 - Figure S5C "
   ]
  },
  {
   "cell_type": "markdown",
   "metadata": {},
   "source": [
    "Load libraries"
   ]
  },
  {
   "cell_type": "code",
   "execution_count": 2,
   "metadata": {},
   "outputs": [],
   "source": [
    "import pandas as pd\n",
    "import numpy as np\n",
    "\n",
    "from tqdm import tqdm\n",
    "\n",
    "import matplotlib.pyplot as plt"
   ]
  },
  {
   "cell_type": "markdown",
   "metadata": {},
   "source": [
    "Load database of compartment download from ***"
   ]
  },
  {
   "cell_type": "code",
   "execution_count": 4,
   "metadata": {},
   "outputs": [
    {
     "name": "stderr",
     "output_type": "stream",
     "text": [
      "/usr/local/lib/python3.7/site-packages/ipykernel_launcher.py:3: FutureWarning: read_table is deprecated, use read_csv instead, passing sep='\\t'.\n",
      "  This is separate from the ipykernel package so we can avoid doing imports until\n"
     ]
    }
   ],
   "source": [
    "db = pd.read_table('./human_compartment_knowledge_full.tsv', \n",
    "                   names=['Ensembl', 'Gene', 'GO_term', 'Compartment',\n",
    "                          'Database', 'Evidence_code', 'Confidence_score'])\n",
    "\n",
    "#Select high confidence score (Score >= 3)\n",
    "\n",
    "db_hc = db[db['Confidence_score'] >= 3]"
   ]
  },
  {
   "cell_type": "markdown",
   "metadata": {},
   "source": [
    "Load human motif database"
   ]
  },
  {
   "cell_type": "code",
   "execution_count": 5,
   "metadata": {},
   "outputs": [],
   "source": [
    "human_db = pd.read_csv('./human_db.csv')"
   ]
  },
  {
   "cell_type": "markdown",
   "metadata": {},
   "source": [
    "Create a list protein identifier according to types of motifs (canonical > phopshorylation-generated > acetylation-generated)"
   ]
  },
  {
   "cell_type": "code",
   "execution_count": null,
   "metadata": {},
   "outputs": [],
   "source": [
    "list_proteins = np.unique(human_db['ID'])\n",
    "\n",
    "cano = list()\n",
    "phospho = list()\n",
    "acetyl = list()\n",
    "\n",
    "for protein in tqdm(list_proteins):\n",
    "    \n",
    "    motifs = np.unique(human_db[human_db['ID'] == protein]['motif_type'])\n",
    "    \n",
    "    gene_name = str(np.unique(human_db[human_db['ID'] == protein][\"Gene names\"])[0]).split(' ')[0]\n",
    "    \n",
    "    if 'Canonical' in motifs: \n",
    "        cano.append(gene_name)\n",
    "    elif 'Canonical' not in motifs and 'Phosphorylation' in motifs:\n",
    "        phospho.append(gene_name)\n",
    "    elif 'Canonical' not in motifs and 'Phosphorylation' not in motifs and 'Acetylation' in motifs:\n",
    "        acetyl.append(gene_name)\n",
    "    else:\n",
    "        print(\"Problem with: {}\".format(protein))"
   ]
  },
  {
   "cell_type": "markdown",
   "metadata": {},
   "source": [
    "List of relevant compartments for quantification and plots"
   ]
  },
  {
   "cell_type": "code",
   "execution_count": 6,
   "metadata": {},
   "outputs": [],
   "source": [
    "relevant_compartments = [\"Cytoskeleton\", 'Extracellular space', 'Peroxisome', 'Mitochondrion', \n",
    "                        'Nucleus', 'Cytosol', 'Endoplasmic reticulum', 'Endosome', 'Lysosome',\n",
    "                        'Plasma membrane']"
   ]
  },
  {
   "cell_type": "markdown",
   "metadata": {},
   "source": [
    "### Figure"
   ]
  },
  {
   "cell_type": "code",
   "execution_count": null,
   "metadata": {},
   "outputs": [],
   "source": [
    "# Create a dict of the number of protein per compartment\n",
    "\n",
    "prot_per_cmp = dict()\n",
    "\n",
    "for c in relevant_compartments:\n",
    "    prot_per_cmp[c] = np.unique(db_hc.loc[db_hc['Compartment'] == c, 'Gene'])"
   ]
  },
  {
   "cell_type": "markdown",
   "metadata": {},
   "source": [
    "Results will be stored in dict to allow building of contengency tables and calculation of $\\chi$ square statistics"
   ]
  },
  {
   "cell_type": "code",
   "execution_count": null,
   "metadata": {},
   "outputs": [],
   "source": [
    "results_for_stats = dict()\n",
    "\n",
    "fig, ax = plt.subplots(figsize=(7,3.5))\n",
    "ax.spines['right'].set_visible(False)\n",
    "ax.spines['top'].set_visible(False)\n",
    "ax.spines['left'].set_visible(False)\n",
    "\n",
    "for i,c in enumerate(relevant_compartments):\n",
    "    \n",
    "    total_in_compartment = len(prot_per_cmp[c])\n",
    "    nb_cano = 0\n",
    "    nb_phospho = 0\n",
    "    nb_acetyl = 0\n",
    "    \n",
    "    for prot in prot_per_cmp[c]:\n",
    "        if prot in cano:\n",
    "            nb_cano += 1\n",
    "        elif prot in phospho:\n",
    "            nb_phospho += 1\n",
    "        elif prot in acetyl:\n",
    "            nb_acetyl += 1\n",
    "    \n",
    "    results_for_stats[c] = {'canonical': nb_cano,\n",
    "                            'phospho':nb_phospho,\n",
    "                            'acetyl': nb_acetyl,\n",
    "                            'no_motif': total_in_compartment-(nb_cano+nb_phospho+nb_acetyl),\n",
    "                           'total_in_compartment': total_in_compartment\n",
    "                           }\n",
    "    \n",
    "    percent_cano = nb_cano/total_in_compartment*100\n",
    "    percent_phospho = nb_phospho / total_in_compartment * 100\n",
    "    percent_acetyl = nb_acetyl / total_in_compartment * 100\n",
    "    percent_other = 100 - (percent_cano + percent_phospho + percent_acetyl)\n",
    "\n",
    "    plt.barh(y=i, width=percent_cano, color='#EEEE00')\n",
    "    plt.barh(y=i, width=percent_phospho, color='#009ACD', left=percent_cano)\n",
    "    plt.barh(y=i, width=percent_acetyl, color='#66CD00', left=percent_cano+percent_phospho)\n",
    "    plt.barh(y=i, width=percent_other, color='gray', left=percent_cano+percent_phospho+percent_acetyl)\n",
    "\n",
    "plt.barh(y=len(relevant_compartments), width=45.98, color='#EEEE00', left=None)\n",
    "plt.barh(y=len(relevant_compartments), width=20.31, color='#009ACD', left=45.98)\n",
    "plt.barh(y=len(relevant_compartments), width=9.17, color='#66CD00', left=20.31+45.98)\n",
    "plt.barh(y=len(relevant_compartments), width=24.54, color='gray', left=20.31+45.98+9.17)\n",
    "\n",
    "y_labels = relevant_compartments.copy()\n",
    "y_labels.append('Full proteome')\n",
    "\n",
    "plt.yticks(ticks=np.arange(len(relevant_compartments)+1), labels=y_labels)\n",
    "plt.xlim(0, 100)\n",
    "\n",
    "import matplotlib.patches as mpatches\n",
    "\n",
    "colors=['#EEEE00', '#009ACD', '#66CD00', 'gray']\n",
    "labels=['canonical', 'phosphorylation', 'acetylation', 'no motif']\n",
    "\n",
    "patches = list()\n",
    "for i,j in zip(colors, labels):\n",
    "    patches.append(mpatches.Patch(color=i, label=j))\n",
    "\n",
    "plt.legend(handles=patches, bbox_to_anchor=[1, 1])\n",
    "\n",
    "plt.xlabel('% of proteins')\n",
    "\n",
    "plt.tight_layout()\n",
    "\n",
    "plt.savefig('./compartment.png', dpi=300)\n",
    "\n",
    "plt.show()"
   ]
  },
  {
   "cell_type": "markdown",
   "metadata": {},
   "source": [
    "Export result table"
   ]
  },
  {
   "cell_type": "code",
   "execution_count": null,
   "metadata": {},
   "outputs": [],
   "source": [
    "export = pd.DataFrame(results_for_stats)\n",
    "export.to_csv('./results_compartments.csv')"
   ]
  }
 ],
 "metadata": {
  "kernelspec": {
   "display_name": "Python 3",
   "language": "python",
   "name": "python3"
  },
  "language_info": {
   "codemirror_mode": {
    "name": "ipython",
    "version": 3
   },
   "file_extension": ".py",
   "mimetype": "text/x-python",
   "name": "python",
   "nbconvert_exporter": "python",
   "pygments_lexer": "ipython3",
   "version": "3.7.0"
  }
 },
 "nbformat": 4,
 "nbformat_minor": 2
}
