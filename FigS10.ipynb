{
 "cells": [
  {
   "cell_type": "markdown",
   "metadata": {},
   "source": [
    "# Kirchner et al. 2019 - Figure S10\n",
    "## Analysis of asparagine-generated motifs"
   ]
  },
  {
   "cell_type": "markdown",
   "metadata": {},
   "source": [
    "Load libraries"
   ]
  },
  {
   "cell_type": "code",
   "execution_count": 1,
   "metadata": {},
   "outputs": [],
   "source": [
    "import pandas as pd\n",
    "import numpy as np\n",
    "\n",
    "from tqdm import tqdm\n",
    "\n",
    "import matplotlib.pyplot as plt"
   ]
  },
  {
   "cell_type": "markdown",
   "metadata": {},
   "source": [
    "Load human motif database"
   ]
  },
  {
   "cell_type": "code",
   "execution_count": 2,
   "metadata": {},
   "outputs": [],
   "source": [
    "human_db = pd.read_csv('./human_db.csv')"
   ]
  },
  {
   "cell_type": "markdown",
   "metadata": {},
   "source": [
    "### Motif abundance and frequency distribution"
   ]
  },
  {
   "cell_type": "markdown",
   "metadata": {},
   "source": [
    "Create a list of protein identifier and screen for protein containing only asparagine-generated motifs"
   ]
  },
  {
   "cell_type": "code",
   "execution_count": 3,
   "metadata": {},
   "outputs": [],
   "source": [
    "list_proteins = np.unique(human_db['ID'])"
   ]
  },
  {
   "cell_type": "code",
   "execution_count": 4,
   "metadata": {},
   "outputs": [
    {
     "name": "stderr",
     "output_type": "stream",
     "text": [
      "100%|██████████| 15969/15969 [12:22<00:00, 21.50it/s]\n"
     ]
    }
   ],
   "source": [
    "n_motif = list()\n",
    "n_motif_counts = list()\n",
    "\n",
    "for protein in tqdm(list_proteins):\n",
    "    \n",
    "    motifs, counts = np.unique(human_db[human_db['ID'] == protein]['motif_type'], return_counts=True)\n",
    "       \n",
    "    c = dict()\n",
    "    for i, j in zip(motifs, counts):\n",
    "        c[i] = j\n",
    "    \n",
    "    gene_name = str(np.unique(human_db[human_db['ID'] == protein][\"Gene names\"])[0]).split(' ')[0]\n",
    "  \n",
    "    if 'Canonical' not in motifs and 'Phosphorylation' not in motifs and 'Acetylation' not in motifs and 'Asparagine' in motifs:\n",
    "        n_motif.append(gene_name)\n",
    "        n_motif_counts.append(c['Asparagine'])"
   ]
  },
  {
   "cell_type": "code",
   "execution_count": 10,
   "metadata": {},
   "outputs": [],
   "source": [
    "count = 0\n",
    "\n",
    "for i in n_motif_counts: \n",
    "    if i == 1:\n",
    "        count += 1"
   ]
  },
  {
   "cell_type": "markdown",
   "metadata": {},
   "source": [
    "Create a pie chart of the overall abundance of asparagine-generated motifs"
   ]
  },
  {
   "cell_type": "code",
   "execution_count": 12,
   "metadata": {},
   "outputs": [
    {
     "data": {
      "image/png": "[encoded data removed]",
      "text/plain": [
       "<Figure size 216x216 with 1 Axes>"
      ]
     },
     "metadata": {},
     "output_type": "display_data"
    }
   ],
   "source": [
    "plt.figure(figsize=(3,3))\n",
    "\n",
    "plt.pie([len(n_motif), 20165-len(n_motif)], \n",
    "        labels=['N > Q', ''], \n",
    "        explode=[0, 0], \n",
    "        colors=['#eb212e', '#aaaaaa'], autopct='%1.1f%%')\n",
    "\n",
    "plt.tight_layout()\n",
    "plt.savefig('./percent_proteome_nmotif.png', dpi=300)\n",
    "plt.show()"
   ]
  },
  {
   "cell_type": "markdown",
   "metadata": {},
   "source": [
    "Plot the distribution of number of motif per protein containing only asparagine-generated motifs"
   ]
  },
  {
   "cell_type": "code",
   "execution_count": 8,
   "metadata": {},
   "outputs": [
    {
     "data": {
      "image/png": "[encoded data removed]",
      "text/plain": [
       "<Figure size 144x216 with 1 Axes>"
      ]
     },
     "metadata": {
      "needs_background": "light"
     },
     "output_type": "display_data"
    }
   ],
   "source": [
    "fig, ax = plt.subplots(figsize=(2,3))\n",
    "ax.spines['right'].set_visible(False)\n",
    "ax.spines['top'].set_visible(False)\n",
    "\n",
    "plt.hist(n_motif_counts, bins=[1,2,3,4,5,6], align='left', width=1, edgecolor='k', facecolor='#EB212E', alpha=.8)\n",
    "\n",
    "plt.xlim((0.3,5.3))\n",
    "plt.xticks([1,2,3,4,5])\n",
    "plt.ylabel('Number of proteins')\n",
    "plt.xlabel('Motifs per protein')\n",
    "plt.ylim(0,700)\n",
    "\n",
    "plt.tight_layout()\n",
    "\n",
    "plt.savefig('./plots/distribution.png', dpi=300)\n",
    "plt.show()"
   ]
  },
  {
   "cell_type": "markdown",
   "metadata": {},
   "source": [
    "### Subcellular localization of proteins containing asparagine-generated KFERQ-like motif"
   ]
  },
  {
   "cell_type": "code",
   "execution_count": 6,
   "metadata": {},
   "outputs": [],
   "source": [
    "db = pd.read_table('./human_compartment_knowledge_full.tsv', \n",
    "                   names=['Ensembl', 'Gene', 'GO_term', 'Compartment',\n",
    "                          'Database', 'Evidence_code', 'Confidence_score'])"
   ]
  },
  {
   "cell_type": "code",
   "execution_count": 7,
   "metadata": {},
   "outputs": [],
   "source": [
    "# Select high confidence only (Score >=3)\n",
    "\n",
    "db_hc = db[db['Confidence_score'] >= 3]"
   ]
  },
  {
   "cell_type": "code",
   "execution_count": 8,
   "metadata": {},
   "outputs": [],
   "source": [
    "relevant_compartments = [\"Cytoskeleton\", 'Extracellular space', 'Peroxisome', 'Mitochondrion', \n",
    "                        'Nucleus', 'Cytosol', 'Endoplasmic reticulum', 'Endosome', 'Lysosome',\n",
    "                        'Plasma membrane']"
   ]
  },
  {
   "cell_type": "code",
   "execution_count": 15,
   "metadata": {},
   "outputs": [],
   "source": [
    "# Create a dict of the number of protein per compartment\n",
    "\n",
    "prot_per_cmp = dict()\n",
    "\n",
    "for c in relevant_compartments:\n",
    "    prot_per_cmp[c] = np.unique(db_hc.loc[db_hc['Compartment'] == c, 'Gene'])"
   ]
  },
  {
   "cell_type": "markdown",
   "metadata": {},
   "source": [
    "Results will be stored in dict to allow building of contengency tables and calculation of $\\chi$ square statistics"
   ]
  },
  {
   "cell_type": "code",
   "execution_count": 20,
   "metadata": {},
   "outputs": [
    {
     "data": {
      "image/png": "[encoded data removed]",
      "text/plain": [
       "<Figure size 360x216 with 1 Axes>"
      ]
     },
     "metadata": {
      "needs_background": "light"
     },
     "output_type": "display_data"
    }
   ],
   "source": [
    "results_for_stats = dict()\n",
    "\n",
    "fig, ax = plt.subplots(figsize=(5,3))\n",
    "ax.spines['right'].set_visible(False)\n",
    "ax.spines['top'].set_visible(False)\n",
    "ax.spines['left'].set_visible(False)\n",
    "\n",
    "for i,c in enumerate(relevant_compartments):\n",
    "    \n",
    "    total_in_compartment = len(prot_per_cmp[c])\n",
    "    nb_n = 0\n",
    "    \n",
    "    for prot in prot_per_cmp[c]:\n",
    "        if prot in n_motif:\n",
    "            nb_n += 1\n",
    "    \n",
    "    results_for_stats[c] = {'n_motif': nb_n,\n",
    "                            'other': total_in_compartment-nb_n,\n",
    "                           'total_in_compartment': total_in_compartment\n",
    "                           }\n",
    "    \n",
    "    percent_n = nb_n/total_in_compartment*100\n",
    "    percent_other = 100 - percent_n\n",
    "        \n",
    "    plt.barh(y=i, width=percent_n, color='#EB212E', alpha=.8)\n",
    "    \n",
    "    \n",
    "percent_total_proteome = 767/20165*100\n",
    "plt.barh(y=len(relevant_compartments), width=percent_total_proteome, color='#EB212E', left=None, alpha=.8)\n",
    "\n",
    "y_labels = relevant_compartments.copy()\n",
    "y_labels.append('Full proteome')\n",
    "\n",
    "plt.yticks(ticks=np.arange(len(relevant_compartments)+1), labels=y_labels)\n",
    "plt.xlim(0, 5)\n",
    "\n",
    "plt.xlabel('% of proteins')\n",
    "\n",
    "plt.tight_layout()\n",
    "\n",
    "plt.savefig('./compartment_n_only.png', dpi=300)\n",
    "\n",
    "plt.show()"
   ]
  },
  {
   "cell_type": "markdown",
   "metadata": {},
   "source": [
    "Export result table"
   ]
  },
  {
   "cell_type": "code",
   "execution_count": null,
   "metadata": {},
   "outputs": [],
   "source": [
    "export = pd.DataFrame(results_for_stats)\n",
    "export.to_csv('./results_compartments.csv')"
   ]
  },
  {
   "cell_type": "markdown",
   "metadata": {},
   "source": [
    "### GO ontology analysis of proteins containing only asparagine-generated motifs"
   ]
  },
  {
   "cell_type": "markdown",
   "metadata": {},
   "source": [
    "Load GO analysis results"
   ]
  },
  {
   "cell_type": "code",
   "execution_count": 7,
   "metadata": {},
   "outputs": [],
   "source": [
    "go = pd.read_csv('./customGO_pz_reviewed_oneN.txt', sep='\\t')\n",
    "sorted_go = go.sort_values(by='combinedScore', ascending=False)"
   ]
  },
  {
   "cell_type": "markdown",
   "metadata": {},
   "source": [
    "Create dataframe for graph and select the 10 highest combined score"
   ]
  },
  {
   "cell_type": "code",
   "execution_count": 11,
   "metadata": {},
   "outputs": [],
   "source": [
    "export_for_graph = sorted_go[['in_category', 'n_category', \n",
    "                              'names', 'combinedScore']][:10]\n",
    "\n",
    "export_for_graph = export_for_graph.sort_values(by='combinedScore')"
   ]
  },
  {
   "cell_type": "markdown",
   "metadata": {},
   "source": [
    "Calculate the percent of proteins in that category having only asparagine-generated motifs"
   ]
  },
  {
   "cell_type": "code",
   "execution_count": 12,
   "metadata": {},
   "outputs": [],
   "source": [
    "export_for_graph['percent'] = export_for_graph['in_category']/export_for_graph['n_category']*100"
   ]
  },
  {
   "cell_type": "code",
   "execution_count": 13,
   "metadata": {},
   "outputs": [
    {
     "data": {
      "image/png": "[encoded data removed]",
      "text/plain": [
       "<Figure size 504x288 with 1 Axes>"
      ]
     },
     "metadata": {
      "needs_background": "light"
     },
     "output_type": "display_data"
    }
   ],
   "source": [
    "fig, ax = plt.subplots(figsize=(7,4))\n",
    "ax.spines['right'].set_visible(False)\n",
    "ax.spines['top'].set_visible(False)\n",
    "ax.spines['left'].set_visible(False)\n",
    "\n",
    "for i,j in enumerate(export_for_graph.index):\n",
    "    plt.barh(i, width=export_for_graph.loc[j, 'combinedScore'], color='k')\n",
    "\n",
    "plt.yticks(ticks=np.arange(len(export_for_graph['names'])), labels=export_for_graph['names'])\n",
    "ax.set_xscale('log')\n",
    "\n",
    "plt.xlim(0.1, 100)\n",
    "plt.xlabel('Combined score')\n",
    "\n",
    "plt.tight_layout()\n",
    "plt.savefig('./plots/GO.png', dpi=300)\n",
    "\n",
    "plt.show()"
   ]
  },
  {
   "cell_type": "markdown",
   "metadata": {},
   "source": [
    "Export a table to manually add % on the figure"
   ]
  },
  {
   "cell_type": "code",
   "execution_count": null,
   "metadata": {},
   "outputs": [],
   "source": [
    "export_for_graph.to_csv('./Go_n_motifs.csv')"
   ]
  }
 ],
 "metadata": {
  "kernelspec": {
   "display_name": "Python 3",
   "language": "python",
   "name": "python3"
  },
  "language_info": {
   "codemirror_mode": {
    "name": "ipython",
    "version": 3
   },
   "file_extension": ".py",
   "mimetype": "text/x-python",
   "name": "python",
   "nbconvert_exporter": "python",
   "pygments_lexer": "ipython3",
   "version": "3.7.0"
  }
 },
 "nbformat": 4,
 "nbformat_minor": 2
}
